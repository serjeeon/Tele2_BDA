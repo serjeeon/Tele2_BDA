{
 "cells": [
  {
   "cell_type": "code",
   "execution_count": null,
   "metadata": {
    "ExecuteTime": {
     "end_time": "2019-07-02T12:46:52.790537Z",
     "start_time": "2019-07-02T12:46:52.166218Z"
    }
   },
   "outputs": [],
   "source": [
    "from fastexport import td_export_tab"
   ]
  },
  {
   "cell_type": "code",
   "execution_count": null,
   "metadata": {
    "ExecuteTime": {
     "end_time": "2019-07-02T12:48:14.391705Z",
     "start_time": "2019-07-02T12:46:54.238855Z"
    }
   },
   "outputs": [],
   "source": [
    "%%time\n",
    "td_export_tab(fexp_path=r'C:\\Program Files (x86)\\Teradata\\Client\\16.10\\bin\\fexp.exe',\n",
    "              outmod_dll='outmod_vchar.dll',\n",
    "              out_file='PRD2_DIC_V.PRICE_PLAN.csv',\n",
    "              driver='Teradata Database ODBC Driver 16.10',\n",
    "              host='*****',\n",
    "              uid='*****', \n",
    "              pwd='*****', \n",
    "              table_name='PRD2_DIC_V.PRICE_PLAN', \n",
    "              log_table='UAT_DM.SP_FE_LOG')"
   ]
  },
  {
   "cell_type": "code",
   "execution_count": null,
   "metadata": {
    "ExecuteTime": {
     "end_time": "2019-07-02T13:08:38.876563Z",
     "start_time": "2019-07-02T12:51:27.957168Z"
    }
   },
   "outputs": [],
   "source": [
    "%%time\n",
    "td_export_tab(fexp_path=r'C:\\Program Files (x86)\\Teradata\\Client\\16.10\\bin\\fexp.exe',\n",
    "              outmod_dll='outmod_vchar.dll',\n",
    "              out_file='PRD2_MDS_V.DMSC.csv',\n",
    "              driver='Teradata Database ODBC Driver 16.10',\n",
    "              host='*****',\n",
    "              uid='*****', \n",
    "              pwd='*****', \n",
    "              table_name='PRD2_MDS_V.DMSC', \n",
    "              log_table='UAT_DM.SP_FE_LOG',\n",
    "              columns=['MSISDN', 'lifetime', 'bc_lifetime', 'dev_park_size', 'av_dev_use'],\n",
    "              where_clause=\"REPORT_DATE = DATE'2019-06-01' AND FLASH_CODE IN ('New', 'Active', 'Reconnect')\")"
   ]
  }
 ],
 "metadata": {
  "kernelspec": {
   "display_name": "Python 3",
   "language": "python",
   "name": "python3"
  },
  "language_info": {
   "codemirror_mode": {
    "name": "ipython",
    "version": 3
   },
   "file_extension": ".py",
   "mimetype": "text/x-python",
   "name": "python",
   "nbconvert_exporter": "python",
   "pygments_lexer": "ipython3",
   "version": "3.7.3"
  },
  "toc": {
   "base_numbering": 1,
   "nav_menu": {},
   "number_sections": true,
   "sideBar": true,
   "skip_h1_title": false,
   "title_cell": "Table of Contents",
   "title_sidebar": "Contents",
   "toc_cell": false,
   "toc_position": {},
   "toc_section_display": true,
   "toc_window_display": false
  },
  "varInspector": {
   "cols": {
    "lenName": 16,
    "lenType": 16,
    "lenVar": 40
   },
   "kernels_config": {
    "python": {
     "delete_cmd_postfix": "",
     "delete_cmd_prefix": "del ",
     "library": "var_list.py",
     "varRefreshCmd": "print(var_dic_list())"
    },
    "r": {
     "delete_cmd_postfix": ") ",
     "delete_cmd_prefix": "rm(",
     "library": "var_list.r",
     "varRefreshCmd": "cat(var_dic_list()) "
    }
   },
   "types_to_exclude": [
    "module",
    "function",
    "builtin_function_or_method",
    "instance",
    "_Feature"
   ],
   "window_display": false
  }
 },
 "nbformat": 4,
 "nbformat_minor": 2
}
